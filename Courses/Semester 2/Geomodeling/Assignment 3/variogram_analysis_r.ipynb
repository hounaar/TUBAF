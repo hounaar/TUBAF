{
 "cells": [
  {
   "cell_type": "markdown",
   "id": "ca05b615",
   "metadata": {},
   "source": [
    "# Variogram Analysis in R"
   ]
  },
  {
   "cell_type": "markdown",
   "id": "d9b382e1",
   "metadata": {},
   "source": [
    "This notebook performs variogram analysis, including the variogram cloud, empirical variogram, model fitting, sub-area comparison, directional variograms, and a variogram map, using the `testData123.csv` dataset."
   ]
  },
  {
   "cell_type": "markdown",
   "id": "80e67615",
   "metadata": {},
   "source": [
    "## Step 1: Load Required Libraries"
   ]
  },
  {
   "cell_type": "code",
   "execution_count": null,
   "id": "fc0a0e17",
   "metadata": {},
   "outputs": [],
   "source": [
    "library(gstat)\n",
    "library(sp)"
   ]
  },
  {
   "cell_type": "markdown",
   "id": "a03f32fb",
   "metadata": {},
   "source": [
    "## Step 2: Load the Dataset and Set Coordinates"
   ]
  },
  {
   "cell_type": "code",
   "execution_count": null,
   "id": "7bda0b47",
   "metadata": {},
   "outputs": [],
   "source": [
    "data <- read.csv(\"testData123.csv\")\n",
    "coordinates(data) <- ~ x + y"
   ]
  },
  {
   "cell_type": "markdown",
   "id": "7b3ad3bf",
   "metadata": {},
   "source": [
    "## Step 3: Variogram Cloud"
   ]
  },
  {
   "cell_type": "code",
   "execution_count": null,
   "id": "766ebfdb",
   "metadata": {},
   "outputs": [],
   "source": [
    "variogram_cloud <- variogram(Co ~ 1, data, cloud = TRUE)\n",
    "plot(variogram_cloud, main = \"Variogram Cloud for Co\", xlab = \"Lag Distance\", ylab = \"Semivariance\")"
   ]
  },
  {
   "cell_type": "markdown",
   "id": "28a78727",
   "metadata": {},
   "source": [
    "## Step 4: Empirical Variogram"
   ]
  },
  {
   "cell_type": "code",
   "execution_count": null,
   "id": "901cc9af",
   "metadata": {},
   "outputs": [],
   "source": [
    "variogram_empirical <- variogram(Co ~ 1, data)\n",
    "plot(variogram_empirical, main = \"Empirical Variogram for Co\", xlab = \"Lag Distance\", ylab = \"Semivariance\")"
   ]
  },
  {
   "cell_type": "markdown",
   "id": "5c1d5489",
   "metadata": {},
   "source": [
    "## Step 5: Fit a Spherical Variogram Model"
   ]
  },
  {
   "cell_type": "code",
   "execution_count": null,
   "id": "12e94721",
   "metadata": {},
   "outputs": [],
   "source": [
    "variogram_model <- fit.variogram(variogram_empirical, vgm(model = \"Sph\"))\n",
    "plot(variogram_empirical, variogram_model, main = \"Fitted Spherical Variogram Model\", xlab = \"Lag Distance\", ylab = \"Semivariance\")"
   ]
  },
  {
   "cell_type": "markdown",
   "id": "23aa528b",
   "metadata": {},
   "source": [
    "## Step 6: Compare Variograms for Sub-Areas"
   ]
  },
  {
   "cell_type": "code",
   "execution_count": null,
   "id": "e118fdc0",
   "metadata": {},
   "outputs": [],
   "source": [
    "data_left <- data[data$x <= median(data$x), ]\n",
    "data_right <- data[data$x > median(data$x), ]\n",
    "\n",
    "variogram_left <- variogram(Co ~ 1, data_left)\n",
    "variogram_right <- variogram(Co ~ 1, data_right)\n",
    "\n",
    "plot(variogram_left, main = \"Variogram for Left Area\", xlab = \"Lag Distance\", ylab = \"Semivariance\")\n",
    "plot(variogram_right, main = \"Variogram for Right Area\", xlab = \"Lag Distance\", ylab = \"Semivariance\")"
   ]
  },
  {
   "cell_type": "markdown",
   "id": "ca0d19ec",
   "metadata": {},
   "source": [
    "## Step 7: Directional Variograms"
   ]
  },
  {
   "cell_type": "code",
   "execution_count": null,
   "id": "37c857d7",
   "metadata": {},
   "outputs": [],
   "source": [
    "variogram_directional <- variogram(Co ~ 1, data, alpha = c(0, 45, 90, 135))\n",
    "plot(variogram_directional, main = \"Directional Variograms\", xlab = \"Lag Distance\", ylab = \"Semivariance\")"
   ]
  },
  {
   "cell_type": "markdown",
   "id": "58ef5557",
   "metadata": {},
   "source": [
    "## Step 8: Variogram Map"
   ]
  },
  {
   "cell_type": "code",
   "execution_count": null,
   "id": "11690494",
   "metadata": {},
   "outputs": [],
   "source": [
    "variogram_map <- variogram(Co ~ 1, data, cutoff = max(variogram_empirical$dist))\n",
    "plot(variogram_map, main = \"Variogram Map\", xlab = \"X Coordinate\", ylab = \"Y Coordinate\")"
   ]
  }
 ],
 "metadata": {},
 "nbformat": 4,
 "nbformat_minor": 5
}
