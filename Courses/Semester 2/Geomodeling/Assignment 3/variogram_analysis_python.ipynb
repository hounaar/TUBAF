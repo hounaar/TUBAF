{
 "cells": [
  {
   "cell_type": "markdown",
   "id": "fdf84ab5",
   "metadata": {},
   "source": [
    "# Variogram Analysis\n",
    "This notebook performs variogram analysis in Python, replicating the functionality of the provided R script. The analysis includes the variogram cloud, empirical variogram, model fitting, sub-area comparison, directional variograms, and a variogram map."
   ]
  },
  {
   "cell_type": "markdown",
   "id": "eeb38e7b",
   "metadata": {},
   "source": [
    "## Step 1: Import Required Libraries\n",
    "We import all necessary Python libraries."
   ]
  },
  {
   "cell_type": "code",
   "execution_count": null,
   "id": "ee948436",
   "metadata": {},
   "outputs": [],
   "source": [
    "import pandas as pd\n",
    "import numpy as np\n",
    "import matplotlib.pyplot as plt\n",
    "from scipy.spatial.distance import pdist, squareform\n",
    "from scipy.optimize import curve_fit"
   ]
  },
  {
   "cell_type": "markdown",
   "id": "ea2a0b05",
   "metadata": {},
   "source": [
    "## Step 2: Load the Dataset\n",
    "We load the dataset `testData123.csv` and inspect its structure."
   ]
  },
  {
   "cell_type": "code",
   "execution_count": null,
   "id": "42cc667b",
   "metadata": {},
   "outputs": [],
   "source": [
    "# Load dataset\n",
    "data = pd.read_csv('testData123.csv')\n",
    "print(data.head())\n",
    "\n",
    "# Extract coordinates and values\n",
    "coords = data[['x', 'y']].values\n",
    "values_co = data['Co'].values"
   ]
  },
  {
   "cell_type": "markdown",
   "id": "1097b62e",
   "metadata": {},
   "source": [
    "## Step 3: Variogram Cloud\n",
    "We compute the semivariance for all point pairs and plot the variogram cloud."
   ]
  },
  {
   "cell_type": "code",
   "execution_count": null,
   "id": "fb221f30",
   "metadata": {},
   "outputs": [],
   "source": [
    "# Compute pairwise distances\n",
    "distances = squareform(pdist(coords))\n",
    "semivariance_cloud = (values_co[:, None] - values_co[None, :])**2\n",
    "\n",
    "# Plot variogram cloud\n",
    "plt.figure(figsize=(10, 6))\n",
    "plt.scatter(distances.flatten(), semivariance_cloud.flatten(), s=5, alpha=0.5)\n",
    "plt.xlabel('Pairwise Distance')\n",
    "plt.ylabel('Semivariance')\n",
    "plt.title('Variogram Cloud for Co')\n",
    "plt.grid()\n",
    "plt.show()"
   ]
  },
  {
   "cell_type": "markdown",
   "id": "e1ba30d7",
   "metadata": {},
   "source": [
    "## Step 4: Empirical Variogram\n",
    "We calculate the empirical variogram by binning the distances."
   ]
  },
  {
   "cell_type": "code",
   "execution_count": null,
   "id": "741139a6",
   "metadata": {},
   "outputs": [],
   "source": [
    "def compute_semivariance(values, distances, max_lag, n_bins):\n",
    "    bins = np.linspace(0, max_lag, n_bins + 1)\n",
    "    semivariance = []\n",
    "    bin_centers = []\n",
    "\n",
    "    for i in range(len(bins) - 1):\n",
    "        mask = (distances > bins[i]) & (distances <= bins[i + 1])\n",
    "        if np.any(mask):\n",
    "            pairwise_diff = (values[:, None] - values[None, :])**2\n",
    "            semivariance.append(np.mean(pairwise_diff[mask]) / 2)\n",
    "            bin_centers.append((bins[i] + bins[i + 1]) / 2)\n",
    "    return np.array(bin_centers), np.array(semivariance)\n",
    "\n",
    "# Parameters\n",
    "max_lag = np.max(distances) / 2\n",
    "n_bins = 15\n",
    "\n",
    "# Compute empirical variogram\n",
    "bin_centers_co, semivariance_co = compute_semivariance(values_co, distances, max_lag, n_bins)\n",
    "\n",
    "# Plot empirical variogram\n",
    "plt.figure(figsize=(10, 6))\n",
    "plt.plot(bin_centers_co, semivariance_co, 'o-', label='Empirical Variogram')\n",
    "plt.xlabel('Lag Distance')\n",
    "plt.ylabel('Semivariance')\n",
    "plt.title('Empirical Variogram for Co')\n",
    "plt.legend()\n",
    "plt.grid()\n",
    "plt.show()"
   ]
  },
  {
   "cell_type": "markdown",
   "id": "56191da5",
   "metadata": {},
   "source": [
    "## Step 5: Fit a Spherical Variogram Model\n",
    "We fit a spherical model to the empirical variogram."
   ]
  },
  {
   "cell_type": "code",
   "execution_count": null,
   "id": "8d5497d0",
   "metadata": {},
   "outputs": [],
   "source": [
    "def spherical_model(h, nugget, sill, range_):\n",
    "    gamma = np.piecewise(\n",
    "        h, \n",
    "        [h <= range_, h > range_],\n",
    "        [lambda h: nugget + sill * (1.5 * (h / range_) - 0.5 * (h / range_)**3), lambda h: nugget + sill]\n",
    "    )\n",
    "    return gamma\n",
    "\n",
    "# Fit spherical model\n",
    "initial_guess = [0, np.max(semivariance_co), np.max(bin_centers_co)]\n",
    "params, _ = curve_fit(spherical_model, bin_centers_co, semivariance_co, p0=initial_guess)\n",
    "nugget, sill, range_ = params\n",
    "\n",
    "# Generate model values\n",
    "model_values = spherical_model(bin_centers_co, nugget, sill, range_)\n",
    "\n",
    "# Plot fitted model\n",
    "plt.figure(figsize=(10, 6))\n",
    "plt.plot(bin_centers_co, semivariance_co, 'o-', label='Empirical Variogram')\n",
    "plt.plot(bin_centers_co, model_values, 'r-', label='Fitted Spherical Model')\n",
    "plt.xlabel('Lag Distance')\n",
    "plt.ylabel('Semivariance')\n",
    "plt.title('Fitted Spherical Variogram Model')\n",
    "plt.legend()\n",
    "plt.grid()\n",
    "plt.show()\n",
    "\n",
    "print(f'Nugget: {nugget:.2f}, Sill: {sill:.2f}, Range: {range_:.2f}')"
   ]
  },
  {
   "cell_type": "markdown",
   "id": "ada2b91e",
   "metadata": {},
   "source": [
    "## Step 6: Compare Variograms for Sub-Areas\n",
    "We divide the dataset into left and right regions and compute their variograms."
   ]
  },
  {
   "cell_type": "code",
   "execution_count": null,
   "id": "61fcc11c",
   "metadata": {},
   "outputs": [],
   "source": [
    "# Split data\n",
    "mid_x = np.median(data['x'])\n",
    "left_area = data[data['x'] <= mid_x]\n",
    "right_area = data[data['x'] > mid_x]\n",
    "\n",
    "coords_left, values_left = left_area[['x', 'y']].values, left_area['Co'].values\n",
    "coords_right, values_right = right_area[['x', 'y']].values, right_area['Co'].values\n",
    "\n",
    "# Compute variograms\n",
    "distances_left = squareform(pdist(coords_left))\n",
    "distances_right = squareform(pdist(coords_right))\n",
    "bin_centers_left, semivariance_left = compute_semivariance(values_left, distances_left, max_lag, n_bins)\n",
    "bin_centers_right, semivariance_right = compute_semivariance(values_right, distances_right, max_lag, n_bins)\n",
    "\n",
    "# Plot comparison\n",
    "plt.figure(figsize=(10, 6))\n",
    "plt.plot(bin_centers_co, semivariance_co, 'o-', label='Full Area')\n",
    "plt.plot(bin_centers_left, semivariance_left, 's-', label='Left Area')\n",
    "plt.plot(bin_centers_right, semivariance_right, '^-', label='Right Area')\n",
    "plt.xlabel('Lag Distance')\n",
    "plt.ylabel('Semivariance')\n",
    "plt.title('Comparison of Variograms')\n",
    "plt.legend()\n",
    "plt.grid()\n",
    "plt.show()"
   ]
  },
  {
   "cell_type": "markdown",
   "id": "b54fc6dc",
   "metadata": {},
   "source": [
    "## Step 7: Directional Dependency\n",
    "We compute directional variograms at four angles (0°, 45°, 90°, 135°)."
   ]
  },
  {
   "cell_type": "code",
   "execution_count": null,
   "id": "4a273e06",
   "metadata": {},
   "outputs": [],
   "source": [
    "def directional_variogram(coords, values, angle, tolerance, max_lag, n_bins):\n",
    "    bins = np.linspace(0, max_lag, n_bins + 1)\n",
    "    semivariance = []\n",
    "    bin_centers = []\n",
    "\n",
    "    dx = np.subtract.outer(coords[:, 0], coords[:, 0])\n",
    "    dy = np.subtract.outer(coords[:, 1], coords[:, 1])\n",
    "    distances = np.sqrt(dx**2 + dy**2)\n",
    "    angles = np.degrees(np.arctan2(dy, dx)) % 180\n",
    "\n",
    "    for i in range(len(bins) - 1):\n",
    "        mask = (distances > bins[i]) & (distances <= bins[i + 1]) & (np.abs(angles - angle) <= tolerance)\n",
    "        if np.any(mask):\n",
    "            pairwise_diff = (values[:, None] - values[None, :])**2\n",
    "            semivariance.append(np.mean(pairwise_diff[mask]) / 2)\n",
    "            bin_centers.append((bins[i] + bins[i + 1]) / 2)\n",
    "    return np.array(bin_centers), np.array(semivariance)\n",
    "\n",
    "# Compute directional variograms\n",
    "angles = [0, 45, 90, 135]\n",
    "tolerance = 22.5\n",
    "\n",
    "plt.figure(figsize=(10, 6))\n",
    "for angle in angles:\n",
    "    bin_centers_dir, semivariance_dir = directional_variogram(coords, values_co, angle, tolerance, max_lag, n_bins)\n",
    "    plt.plot(bin_centers_dir, semivariance_dir, 'o-', label=f'Direction {angle}°')\n",
    "plt.xlabel('Lag Distance')\n",
    "plt.ylabel('Semivariance')\n",
    "plt.title('Directional Variograms')\n",
    "plt.legend()\n",
    "plt.grid()\n",
    "plt.show()"
   ]
  }
 ],
 "metadata": {},
 "nbformat": 4,
 "nbformat_minor": 5
}
